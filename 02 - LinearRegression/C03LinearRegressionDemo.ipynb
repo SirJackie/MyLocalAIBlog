{
 "cells": [
  {
   "cell_type": "code",
   "execution_count": 1,
   "id": "9b3f9a49-79cb-4028-8440-a331dafcc40a",
   "metadata": {},
   "outputs": [],
   "source": [
    "import matplotlib.pyplot as plt\n",
    "import torch"
   ]
  },
  {
   "cell_type": "code",
   "execution_count": 2,
   "id": "29883ae9-bc2b-4612-91ef-5215d9a8c645",
   "metadata": {},
   "outputs": [],
   "source": [
    "N = 20\n",
    "X = torch.rand(N)  # 生成n个随机数,0-1\n",
    "k = 2\n",
    "b = 3\n",
    "Y = k * X + b + torch.randn(N) * 0.02  # 噪声用randn，正态分布"
   ]
  },
  {
   "cell_type": "code",
   "execution_count": 3,
   "id": "0b2d686d-aff1-40e0-8e6c-34a7e0fd01b1",
   "metadata": {},
   "outputs": [
    {
     "data": {
      "text/plain": [
       "<matplotlib.collections.PathCollection at 0x1b58bc21ac0>"
      ]
     },
     "execution_count": 3,
     "metadata": {},
     "output_type": "execute_result"
    },
    {
     "data": {
      "image/png": "[encoded data removed]",
      "text/plain": [
       "<Figure size 432x288 with 1 Axes>"
      ]
     },
     "metadata": {
      "needs_background": "light"
     },
     "output_type": "display_data"
    }
   ],
   "source": [
    "plt.scatter(X, Y)  # 快速画图"
   ]
  },
  {
   "cell_type": "code",
   "execution_count": 4,
   "id": "ca2bb4de-21db-4f26-ac9e-fb43baa273d8",
   "metadata": {},
   "outputs": [
    {
     "data": {
      "text/plain": [
       "(tensor([0.4969], requires_grad=True), tensor([0.7788], requires_grad=True))"
      ]
     },
     "execution_count": 4,
     "metadata": {},
     "output_type": "execute_result"
    }
   ],
   "source": [
    "w_k = torch.rand(1)\n",
    "w_k.requires_grad = True\n",
    "w_b = torch.rand(1)\n",
    "w_b.requires_grad = True\n",
    "w_k, w_b"
   ]
  },
  {
   "cell_type": "code",
   "execution_count": 5,
   "id": "d11ded1d-af78-43fe-8f45-8c4443a92376",
   "metadata": {},
   "outputs": [],
   "source": [
    "lr = 0.02"
   ]
  },
  {
   "cell_type": "code",
   "execution_count": 6,
   "id": "8e79d237-c64a-4a10-8b84-a245c965c31a",
   "metadata": {},
   "outputs": [],
   "source": [
    "for i in range(1000):\n",
    "    # calc y_hat\n",
    "    y_hat = w_k * X + w_b\n",
    "    # calc loss\n",
    "    loss = ((y_hat - Y)**2).mean()  # 求数组平均值\n",
    "    # backward, update grad\n",
    "    loss.backward()\n",
    "    # update w_k, w_b\n",
    "    w_k.data = w_k.data - lr * w_k.grad.data\n",
    "    w_b.data = w_b.data - lr * w_b.grad.data\n",
    "    # clear grad\n",
    "    w_b.grad.data = torch.zeros(1)\n",
    "    w_k.grad.data = torch.zeros(1)\n",
    "    pass"
   ]
  },
  {
   "cell_type": "code",
   "execution_count": 7,
   "id": "d4f7c4f3-5d68-4d51-97a9-d783c894e3c9",
   "metadata": {},
   "outputs": [
    {
     "data": {
      "text/plain": [
       "<matplotlib.collections.PathCollection at 0x1b58bd6bfd0>"
      ]
     },
     "execution_count": 7,
     "metadata": {},
     "output_type": "execute_result"
    },
    {
     "data": {
      "image/png": "[encoded data removed]",
      "text/plain": [
       "<Figure size 432x288 with 1 Axes>"
      ]
     },
     "metadata": {
      "needs_background": "light"
     },
     "output_type": "display_data"
    }
   ],
   "source": [
    "test_x = torch.linspace(0, 1, 100)\n",
    "test_y = test_x * w_k.detach() + w_b.detach()  # .detach() == .data\n",
    "plt.plot(test_x, test_y)\n",
    "plt.scatter(X, Y)"
   ]
  },
  {
   "cell_type": "code",
   "execution_count": 8,
   "id": "02b0bc27-bb22-4872-85a1-af12f0e6aa48",
   "metadata": {},
   "outputs": [
    {
     "data": {
      "text/plain": [
       "(tensor([1.9757]), tensor([3.0053]))"
      ]
     },
     "execution_count": 8,
     "metadata": {},
     "output_type": "execute_result"
    }
   ],
   "source": [
    "w_k.data, w_b.data"
   ]
  },
  {
   "cell_type": "code",
   "execution_count": 9,
   "id": "cfbf84a8-defb-460d-bcaa-02b1a7c181a7",
   "metadata": {},
   "outputs": [
    {
     "data": {
      "text/plain": [
       "(tensor([0.]), tensor([0.]))"
      ]
     },
     "execution_count": 9,
     "metadata": {},
     "output_type": "execute_result"
    }
   ],
   "source": [
    "w_k.grad, w_b.grad"
   ]
  }
 ],
 "metadata": {
  "kernelspec": {
   "display_name": "Python 3 (ipykernel)",
   "language": "python",
   "name": "python3"
  },
  "language_info": {
   "codemirror_mode": {
    "name": "ipython",
    "version": 3
   },
   "file_extension": ".py",
   "mimetype": "text/x-python",
   "name": "python",
   "nbconvert_exporter": "python",
   "pygments_lexer": "ipython3",
   "version": "3.9.7"
  }
 },
 "nbformat": 4,
 "nbformat_minor": 5
}
